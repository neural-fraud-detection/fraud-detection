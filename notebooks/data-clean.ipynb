{
 "cells": [
  {
   "cell_type": "code",
   "execution_count": null,
   "id": "4964247c",
   "metadata": {},
   "outputs": [],
   "source": [
    "import pandas as pd\n",
    "import numpy as np\n",
    "import matplotlib.pyplot as plt\n",
    "import seaborn as sns\n",
    "import kagglehub\n",
    "import shutil\n",
    "import os\n",
    "from imblearn.over_sampling import SMOTE\n",
    "from collections import Counter\n",
    "from sklearn.preprocessing import LabelEncoder, StandardScaler"
   ]
  },
  {
   "cell_type": "code",
   "execution_count": null,
   "id": "8ce0a29a",
   "metadata": {},
   "outputs": [],
   "source": [
    "# Download latest version\n",
    "path = kagglehub.dataset_download(\"kartik2112/fraud-detection\")\n",
    "\n",
    "print(\"Path to dataset files:\", path)"
   ]
  },
  {
   "cell_type": "code",
   "execution_count": null,
   "id": "d5dc0e3e",
   "metadata": {},
   "outputs": [],
   "source": [
    "# Define the destination folder path\n",
    "file_path = '/home/guilherme-coelho/Documentos/tcc/data/raw'\n",
    "\n",
    "# Ensure the destination folder exists\n",
    "os.makedirs(file_path, exist_ok=True)\n",
    "\n",
    "# Copy files from the Kaggle dataset path to the local folder\n",
    "shutil.copytree(path, file_path, dirs_exist_ok=True)\n",
    "\n",
    "print(f\"Dataset copied to {file_path}\")"
   ]
  },
  {
   "cell_type": "code",
   "execution_count": null,
   "id": "4ab13fe2",
   "metadata": {},
   "outputs": [],
   "source": [
    "import pandas as pd\n",
    "\n",
    "# Load the dataset into a DataFrame\n",
    "dataset_path = os.path.join(file_path, 'fraudTrain.csv') \n",
    "df = pd.read_csv(dataset_path)\n",
    "\n",
    "print(df.head())  # Display the first few rows of the DataFrame"
   ]
  },
  {
   "cell_type": "code",
   "execution_count": null,
   "id": "d9fbcd12",
   "metadata": {},
   "outputs": [],
   "source": [
    "# Check for missing values in the training dataset\n",
    "print(\"\\nMissing values in the training dataset:\")\n",
    "print(df.isnull().sum())\n",
    "\n",
    "# Summary statistics for numeric columns\n",
    "print(\"\\nSummary statistics for numeric columns in the training dataset:\")\n",
    "print(df.describe())\n",
    "\n",
    "# Distribution of the target variable ('is_fraud') in the training dataset\n",
    "plt.figure(figsize=(6, 4))\n",
    "sns.countplot(x='is_fraud', data=df)\n",
    "plt.title('Distribution of Fraudulent Transactions (Training Dataset)')\n",
    "plt.xlabel('Is Fraud (0 = No, 1 = Yes)')\n",
    "plt.ylabel('Count')\n",
    "plt.show()"
   ]
  },
  {
   "cell_type": "code",
   "execution_count": null,
   "id": "eacf0e75",
   "metadata": {
    "vscode": {
     "languageId": "ruby"
    }
   },
   "outputs": [],
   "source": [
    "# List of columns to drop\n",
    "columns_to_drop = ['Unnamed: 0', 'cc_num', 'trans_date_trans_time', 'first', 'last', 'dob', 'street', 'trans_num', 'unix_time']\n",
    "\n",
    "# Drop the columns from the DataFrame\n",
    "df = df.drop(columns=columns_to_drop)\n",
    "\n",
    "print(df.head())  # Display the first few rows of the updated DataFrame"
   ]
  },
  {
   "cell_type": "code",
   "execution_count": null,
   "id": "99a5931e",
   "metadata": {},
   "outputs": [],
   "source": [
    "print(f\"👉 Data Types: {df.dtypes}\\n\")\n",
    "df.head()"
   ]
  },
  {
   "cell_type": "code",
   "execution_count": null,
   "id": "1e9f349d",
   "metadata": {},
   "outputs": [],
   "source": [
    "# Columns with categorical values\n",
    "df.select_dtypes(include = ['object'])\n"
   ]
  },
  {
   "cell_type": "code",
   "execution_count": null,
   "id": "70ac8b57",
   "metadata": {},
   "outputs": [],
   "source": [
    "df.select_dtypes(include = ['object'])\n",
    "\n",
    "encoder = LabelEncoder()\n",
    "df[\"merchant\"] = encoder.fit_transform(df[\"merchant\"])\n",
    "df[\"category\"] = encoder.fit_transform(df[\"category\"])\n",
    "df[\"gender\"] = encoder.fit_transform(df[\"gender\"])\n",
    "df[\"job\"] = encoder.fit_transform(df[\"job\"])\n",
    "df[\"city\"] = encoder.fit_transform(df[\"city\"])\n",
    "df[\"state\"] = encoder.fit_transform(df[\"state\"])\n",
    "\n",
    "df.head()\n"
   ]
  },
  {
   "cell_type": "code",
   "execution_count": null,
   "id": "74d6425c",
   "metadata": {},
   "outputs": [],
   "source": [
    "# Separate features (X) and target variable (y)\n",
    "X = df.drop(columns=['is_fraud'])\n",
    "y = df['is_fraud']\n",
    "\n",
    "# Apply SMOTE to balance the dataset\n",
    "smote = SMOTE(random_state=42)\n",
    "X_resampled, y_resampled = smote.fit_resample(X, y)\n",
    "\n",
    "# Combine the resampled features and target into a new DataFrame\n",
    "df_resampled = pd.concat([pd.DataFrame(X_resampled, columns=X.columns), pd.DataFrame(y_resampled, columns=['is_fraud'])], axis=1)\n",
    "\n",
    "# Display the class distribution after oversampling\n",
    "print(\"Class distribution after SMOTE:\", Counter(df_resampled['is_fraud']))\n",
    "\n"
   ]
  },
  {
   "cell_type": "code",
   "execution_count": null,
   "id": "bf7329ef",
   "metadata": {},
   "outputs": [],
   "source": [
    "# Define the output file path\n",
    "output_file_path = '/home/guilherme-coelho/Documentos/tcc/data/processed/filtered_balanced_dataset.csv'\n",
    "\n",
    "# Ensure the destination folder exists\n",
    "os.makedirs(os.path.dirname(output_file_path), exist_ok=True)\n",
    "\n",
    "# Write the filtered and balanced dataset to a CSV file\n",
    "df_resampled.to_csv(output_file_path, index=False)\n",
    "\n",
    "print(f\"Filtered and balanced dataset written to {output_file_path}\")"
   ]
  },
  {
   "cell_type": "code",
   "execution_count": null,
   "id": "ba6a29e7",
   "metadata": {},
   "outputs": [],
   "source": [
    "# Show the distribution of the target variable in the resampled dataset\n",
    "plt.figure(figsize=(6, 4))\n",
    "sns.countplot(x='is_fraud', data=df_resampled)\n",
    "plt.title('Distribution of Fraudulent Transactions (Training Dataset)')\n",
    "plt.xlabel('Is Fraud (0 = No, 1 = Yes)')\n",
    "plt.ylabel('Count')\n",
    "plt.show()"
   ]
  }
 ],
 "metadata": {
  "kernelspec": {
   "display_name": ".venv",
   "language": "python",
   "name": "python3"
  },
  "language_info": {
   "codemirror_mode": {
    "name": "ipython",
    "version": 3
   },
   "file_extension": ".py",
   "mimetype": "text/x-python",
   "name": "python",
   "nbconvert_exporter": "python",
   "pygments_lexer": "ipython3",
   "version": "3.12.3"
  }
 },
 "nbformat": 4,
 "nbformat_minor": 5
}
